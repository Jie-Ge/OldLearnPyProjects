{
 "cells": [
  {
   "cell_type": "code",
   "execution_count": 1,
   "metadata": {},
   "outputs": [],
   "source": [
    "import pandas as pd\n",
    "import numpy as np\n",
    "with open('./outputfilename1.csv') as f:\n",
    "    df = pd.read_csv(f)"
   ]
  },
  {
   "cell_type": "code",
   "execution_count": 2,
   "metadata": {},
   "outputs": [],
   "source": [
    "df.dropna(subset=['tagname'], inplace=True)\n",
    "df = df.sort_values(['tagname', 'time'])\n",
    "df = df.astype(str)"
   ]
  },
  {
   "cell_type": "code",
   "execution_count": 3,
   "metadata": {},
   "outputs": [],
   "source": [
    "tagnames=np.unique(df['tagname'])\n",
    "datetime_imput = []\n",
    "tagname_imput=[]\n",
    "# time=pd.to_datetime(df['time'])\n",
    "time_min=df[\"time\"].min()\n",
    "time_max=df[\"time\"].max()\n",
    "tagname=list(df['tagname'])"
   ]
  },
  {
   "cell_type": "code",
   "execution_count": 4,
   "metadata": {},
   "outputs": [
    {
     "name": "stdout",
     "output_type": "stream",
     "text": [
      "NX_GD_SBQF_FJ_P1_L1_001\n"
     ]
    }
   ],
   "source": [
    "for i in tagnames:\n",
    "    print(i)\n",
    "    min=pd.to_datetime(time_min)\n",
    "    time_max = pd.to_datetime(time_max)\n",
    "    while min <= time_max:\n",
    "        datetime_imput.append(min)\n",
    "        tagname_imput.append(i)\n",
    "        min = min + pd.Timedelta(\"1s\")"
   ]
  },
  {
   "cell_type": "code",
   "execution_count": 5,
   "metadata": {},
   "outputs": [],
   "source": [
    "tagname_imput=pd.DataFrame(tagname_imput)\n",
    "datetime_imput=pd.DataFrame(datetime_imput)\n",
    "data=pd.merge(datetime_imput,tagname_imput,left_index=True,right_index=True)\n",
    "\n",
    "data.rename(columns={'0_x':'time','0_y':'tagname'},inplace=True)\n",
    "\n",
    "data= data.sort_values(['tagname', 'time'])"
   ]
  },
  {
   "cell_type": "code",
   "execution_count": null,
   "metadata": {},
   "outputs": [],
   "source": [
    "ata[['time']]=data['time'].astype('str')\n",
    "data['tagtime']=data['tagname']+data['time']\n",
    "\n",
    "# df[['time']]=df['time'].astype('str')\n",
    "df['tagtime']=df['tagname']+df['time']\n",
    "data=data.merge(df, how='left',left_on=['tagtime'],right_on=['tagtime'])\n",
    "\n",
    "data.rename(columns={'tagtime_x':'tagtime'},inplace=True)\n",
    "data_merge=data.loc[:,['tagtime','qdyyb','yldx','ylgx','fksj','gzsjgcgz','djbhgz','zxtyy','fjph']]\n",
    "# print(data)\n",
    "data_merge['tagname']=data['tagname_x']\n",
    "data_merge['time']=data['time_x']\n",
    "\n",
    "print(data.icol(0).value_counts())"
   ]
  },
  {
   "cell_type": "code",
   "execution_count": null,
   "metadata": {},
   "outputs": [],
   "source": [
    "# data_merge.to_csv('new_主系统液压.csv', index=False)"
   ]
  }
 ],
 "metadata": {
  "kernelspec": {
   "display_name": "Python [conda env:qqqq]",
   "language": "python",
   "name": "qqqq"
  },
  "language_info": {
   "codemirror_mode": {
    "name": "ipython",
    "version": 3
   },
   "file_extension": ".py",
   "mimetype": "text/x-python",
   "name": "python",
   "nbconvert_exporter": "python",
   "pygments_lexer": "ipython3",
   "version": "3.6.4"
  }
 },
 "nbformat": 4,
 "nbformat_minor": 2
}
