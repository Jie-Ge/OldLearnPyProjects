{
 "cells": [
  {
   "cell_type": "code",
   "execution_count": 1,
   "metadata": {},
   "outputs": [],
   "source": [
    "# 网站默认的是80端口\n",
    "# - http://www.baidu.com \n",
    "# - http://www.baiu.com:100/"
   ]
  },
  {
   "cell_type": "markdown",
   "metadata": {},
   "source": [
    "![http%E5%8D%8F%E8%AE%AE.png](attachment:http%E5%8D%8F%E8%AE%AE.png)"
   ]
  },
  {
   "cell_type": "markdown",
   "metadata": {},
   "source": [
    "![http%E5%8D%8F%E8%AE%AE1.png](attachment:http%E5%8D%8F%E8%AE%AE1.png)"
   ]
  },
  {
   "cell_type": "markdown",
   "metadata": {},
   "source": [
    "![http%E8%AF%B7%E6%B1%82%E6%8A%A5%E6%96%87.png](attachment:http%E8%AF%B7%E6%B1%82%E6%8A%A5%E6%96%87.png)"
   ]
  },
  {
   "cell_type": "markdown",
   "metadata": {},
   "source": [
    "![web%E6%9C%8D%E5%8A%A1%E5%99%A8%E5%93%8D%E5%BA%94.png](attachment:web%E6%9C%8D%E5%8A%A1%E5%99%A8%E5%93%8D%E5%BA%94.png)"
   ]
  },
  {
   "cell_type": "markdown",
   "metadata": {},
   "source": [
    "![%E8%AF%B7%E6%B1%82%E6%8A%A5%E6%96%87%E7%9A%84%E6%96%B9%E6%B3%95.png](attachment:%E8%AF%B7%E6%B1%82%E6%8A%A5%E6%96%87%E7%9A%84%E6%96%B9%E6%B3%95.png)"
   ]
  },
  {
   "cell_type": "markdown",
   "metadata": {},
   "source": [
    "![%E5%93%8D%E5%BA%94%E6%8A%A5%E6%96%87%E7%9A%84%E7%8A%B6%E6%80%81%E7%A0%81.png](attachment:%E5%93%8D%E5%BA%94%E6%8A%A5%E6%96%87%E7%9A%84%E7%8A%B6%E6%80%81%E7%A0%81.png)"
   ]
  },
  {
   "cell_type": "markdown",
   "metadata": {},
   "source": [
    "![%E9%A6%96%E9%83%A8%E5%AD%97%E6%AE%B5.png](attachment:%E9%A6%96%E9%83%A8%E5%AD%97%E6%AE%B5.png)"
   ]
  },
  {
   "cell_type": "markdown",
   "metadata": {},
   "source": [
    "![http%E4%BB%A3%E7%90%86.png](attachment:http%E4%BB%A3%E7%90%86.png)"
   ]
  },
  {
   "cell_type": "markdown",
   "metadata": {},
   "source": [
    "![http%E4%BB%A3%E7%90%86%E6%9C%8D%E5%8A%A1%E5%99%A8.png](attachment:http%E4%BB%A3%E7%90%86%E6%9C%8D%E5%8A%A1%E5%99%A8.png)"
   ]
  },
  {
   "cell_type": "markdown",
   "metadata": {},
   "source": [
    "![http%E4%BB%A3%E7%90%86%E7%9A%84web%E8%AE%BF%E9%97%AE%E8%BF%87%E7%A8%8B.png](attachment:http%E4%BB%A3%E7%90%86%E7%9A%84web%E8%AE%BF%E9%97%AE%E8%BF%87%E7%A8%8B.png)"
   ]
  },
  {
   "cell_type": "code",
   "execution_count": null,
   "metadata": {},
   "outputs": [],
   "source": []
  }
 ],
 "metadata": {
  "kernelspec": {
   "display_name": "Python 3",
   "language": "python",
   "name": "python3"
  },
  "language_info": {
   "codemirror_mode": {
    "name": "ipython",
    "version": 3
   },
   "file_extension": ".py",
   "mimetype": "text/x-python",
   "name": "python",
   "nbconvert_exporter": "python",
   "pygments_lexer": "ipython3",
   "version": "3.6.4"
  }
 },
 "nbformat": 4,
 "nbformat_minor": 2
}
