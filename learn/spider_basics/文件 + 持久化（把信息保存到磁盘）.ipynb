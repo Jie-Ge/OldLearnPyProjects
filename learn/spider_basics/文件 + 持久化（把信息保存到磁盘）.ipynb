{
 "cells": [
  {
   "cell_type": "markdown",
   "metadata": {},
   "source": [
    "# open函数\n",
    "- r: 只读方式打开\n",
    "- w: 写方式打开，会覆盖以前内容  (如果没有文件，则创建)\n",
    "- x: 创建方式打开，如文件已存在，报错\n",
    "- a：append方式，以追加的方式对文件内容进行写入\n",
    "- b: 二进制方式写入\n",
    "- t: 文本方式打开\n",
    "- +：可读写"
   ]
  },
  {
   "cell_type": "code",
   "execution_count": 1,
   "metadata": {},
   "outputs": [],
   "source": [
    "# r: 表示后面的字符串内容不需要转义\n",
    "# f：称为文件句柄\n",
    "\n",
    "f = open(r\"test01.txt\", 'w')\n",
    "f.close()"
   ]
  },
  {
   "cell_type": "markdown",
   "metadata": {},
   "source": [
    "# with语句\n",
    "- readline(): 按行读取\n",
    "- list(): 以打开的文件作为参数，把文件内每一行内容作为一个元素\n",
    "- read(): 按字符读取文件内容\n",
    "    - 允许输入参数决定读取几个字符（从当前位置开始读）\n",
    "    - 如果没有指定，则读取全部"
   ]
  },
  {
   "cell_type": "code",
   "execution_count": null,
   "metadata": {},
   "outputs": [],
   "source": [
    "with open(r\"test01.txt\",'r') as f:\n",
    "    strline = f.readline()  # 读取了一行\n",
    "    while strline:\n",
    "        print(strline)\n",
    "        strline = f.readline()"
   ]
  },
  {
   "cell_type": "code",
   "execution_count": null,
   "metadata": {},
   "outputs": [],
   "source": [
    "with open(r\"test01.txt\",'r') as f:\n",
    "    l = list(f)\n",
    "    for line in l:  # 一行一行打印\n",
    "        print(line)"
   ]
  },
  {
   "cell_type": "code",
   "execution_count": null,
   "metadata": {},
   "outputs": [],
   "source": [
    "with open(r\"test01.txt\",'r') as f:\n",
    "    strChar1 = f.read()  # 读取全部字符\n",
    "    strChar2 = f.read(1)  # 读取一个字符\n",
    "    \n",
    "    while strChar2:  # 一个一个的读\n",
    "        print(strChar2)\n",
    "        strChar2 = f.read(1)"
   ]
  },
  {
   "cell_type": "markdown",
   "metadata": {},
   "source": [
    "# seek（offset, from）\n",
    "- 移动文件的读取位置\n",
    "- from的取值范围：\n",
    "    - 0：从文件头开始偏移\n",
    "    - 1：从文件当前位置开始偏移\n",
    "    - 2：从文件末尾开始偏移\n",
    "- 移动的单位是字节"
   ]
  },
  {
   "cell_type": "markdown",
   "metadata": {},
   "source": [
    "# tell函数\n",
    "    - 用来显示文件读写指针的当前位置\n",
    "    - 返回的数字的单位是字节"
   ]
  },
  {
   "cell_type": "code",
   "execution_count": null,
   "metadata": {},
   "outputs": [],
   "source": [
    "with open(r\"test01.txt\",'r') as f:\n",
    "    strChar2 = f.read(1)  # 读取一个字符\n",
    "    pos = f.tell()\n",
    "    \n",
    "    while strChar2:  # 一个一个的读\n",
    "        print(strChar2)\n",
    "        strChar2 = f.read(1)"
   ]
  },
  {
   "cell_type": "markdown",
   "metadata": {},
   "source": [
    "# 文件的写操作\n",
    "- write(str): 把字符串写入文件\n",
    "- writelines(str): 把字符串按行写入文件\n",
    "- 区别：\n",
    "    - write参数只能是字符串\n",
    "    - writelines参数可以是字符串，也可以是字符序列"
   ]
  },
  {
   "cell_type": "code",
   "execution_count": null,
   "metadata": {},
   "outputs": [],
   "source": [
    "li = ['i', 'love', 'xxx']\n",
    "\n",
    "with open(r\"test01.txt\",'w') as f:\n",
    "    f.writelines(li)  # 没有换行"
   ]
  },
  {
   "cell_type": "markdown",
   "metadata": {},
   "source": [
    "# 持久化 - pickle\n",
    "- 序列化（也叫持久化，落地）：把程序运行中的信息保存到磁盘上\n",
    "- 反序列化：序列化的逆过程\n",
    "- pickle：python提供的序列化模块\n",
    "- pickle.dump:序列化\n",
    "- pickle.load:反序列化\n",
    "- 好处：可以保存一些结构化的东西"
   ]
  },
  {
   "cell_type": "code",
   "execution_count": 8,
   "metadata": {},
   "outputs": [],
   "source": [
    "# 序列化\n",
    "import pickle\n",
    "\n",
    "info = [19, 'dana', 'i am shuai', [163, 110]]\n",
    "\n",
    "with open(r'test01.txt', 'wb') as f:\n",
    "    pickle.dump(info, f)\n",
    "    "
   ]
  },
  {
   "cell_type": "code",
   "execution_count": 9,
   "metadata": {},
   "outputs": [
    {
     "name": "stdout",
     "output_type": "stream",
     "text": [
      "[19, 'dana', 'i am shuai', [163, 110]]\n"
     ]
    }
   ],
   "source": [
    "# 反序列化\n",
    "\n",
    "with open(r'test01.txt', 'rb') as f:\n",
    "    info = pickle.load(f)\n",
    "    print(info)"
   ]
  },
  {
   "cell_type": "markdown",
   "metadata": {},
   "source": [
    "# 持久化 - shelve\n",
    "- 持久化工具（数据库）\n",
    "- 类似字典，用key-value对保存数据，存取方式跟字典也类似\n",
    "- open，close成对出现"
   ]
  },
  {
   "cell_type": "code",
   "execution_count": 10,
   "metadata": {},
   "outputs": [],
   "source": [
    "# 使用shelve创建文件并使用\n",
    "import shelve\n",
    "\n",
    "# 打开文件\n",
    "# shv相当于一个字典\n",
    "shv = shelve.open(r'shv.db')\n",
    "\n",
    "shv['one'] = 1\n",
    "shv['two'] = 2\n",
    "\n",
    "shv.close()\n",
    "\n",
    "# 通过以上案例发现，shelve自动创建的不仅仅是一个shv.db文件，还包括其他格式文件\n",
    "# shelve实际上创建的是一个数据库"
   ]
  },
  {
   "cell_type": "code",
   "execution_count": 12,
   "metadata": {},
   "outputs": [
    {
     "name": "stdout",
     "output_type": "stream",
     "text": [
      "出错啦啦啦啦啦\n"
     ]
    }
   ],
   "source": [
    "# shelve读取\n",
    "\n",
    "shv = shelve.open(r'shv.db')\n",
    "\n",
    "try:\n",
    "    print(shv['one1'])  # 文件打开必须要关闭，若此句出错，则不会执行close()语句，所以加上 try \n",
    "except Exception as e:\n",
    "    print('出错啦啦啦啦啦')\n",
    "finally:\n",
    "    shv.close()"
   ]
  },
  {
   "cell_type": "markdown",
   "metadata": {},
   "source": [
    "# shelve特性\n",
    "- 不支持多个应用并行写入\n",
    "    - 解决方法：open的时候可以使用：flag=r  \n",
    "    - 如： shv = shelve.open(r'shv.db', flag=r) \n",
    "- 写回问题（写回数据库）\n",
    "    - shelve一般情况下不会等待持久化对象进行任何更改\n",
    "    - 解决方法：强制写回：writeback=True"
   ]
  },
  {
   "cell_type": "code",
   "execution_count": 15,
   "metadata": {},
   "outputs": [
    {
     "name": "stdout",
     "output_type": "stream",
     "text": [
      "{'one': 1, 'two': 2, 'three': 3}\n"
     ]
    }
   ],
   "source": [
    "import shelve\n",
    "\n",
    "shv = shelve.open(r'shv.db')\n",
    "try:\n",
    "    shv['one'] = {\"one\":1, 'two': 2, 'three':3}\n",
    "finally:\n",
    "    shv.close()\n",
    " \n",
    "\n",
    "shv = shelve.open(r'shv.db')\n",
    "try:\n",
    "    one = shv['one']\n",
    "    print(one)\n",
    "finally:\n",
    "    shv.close()"
   ]
  },
  {
   "cell_type": "code",
   "execution_count": 16,
   "metadata": {},
   "outputs": [
    {
     "name": "stdout",
     "output_type": "stream",
     "text": [
      "{'one': 1, 'two': 2, 'three': 3}\n",
      "{'one': 100, 'two': 2, 'three': 3}\n"
     ]
    }
   ],
   "source": [
    "# shelve忘记写回，需要使用强制写回\n",
    "shv = shelve.open(r'shv.db', writeback=True)\n",
    "try:\n",
    "    k1 = shv['one']\n",
    "    print(k1)\n",
    "    # 若不使用writeback=True，一旦shelve关闭，则内容还是保存在内存中，没有写回数据库\n",
    "    k1['one'] = 100\n",
    "finally:\n",
    "    shv.close()\n",
    " \n",
    "\n",
    "shv = shelve.open(r'shv.db')\n",
    "try:\n",
    "    k1 = shv['one']\n",
    "    print(k1)\n",
    "finally:\n",
    "    shv.close()"
   ]
  },
  {
   "cell_type": "code",
   "execution_count": 18,
   "metadata": {},
   "outputs": [
    {
     "name": "stdout",
     "output_type": "stream",
     "text": [
      "{'one': 100, 'two': 2, 'three': 3}\n",
      "{'one': 200, 'two': 2, 'three': 3}\n"
     ]
    }
   ],
   "source": [
    "# shelve使用with\n",
    "\n",
    "with shelve.open(r'shv.db', writeback=True) as f:\n",
    "    k1 = f['one']\n",
    "    print(k1)\n",
    "    k1['one'] = 200\n",
    "\n",
    "with shelve.open(r'shv.db') as f:\n",
    "    print(f['one'])"
   ]
  },
  {
   "cell_type": "code",
   "execution_count": null,
   "metadata": {},
   "outputs": [],
   "source": []
  }
 ],
 "metadata": {
  "kernelspec": {
   "display_name": "Python 3",
   "language": "python",
   "name": "python3"
  },
  "language_info": {
   "codemirror_mode": {
    "name": "ipython",
    "version": 3
   },
   "file_extension": ".py",
   "mimetype": "text/x-python",
   "name": "python",
   "nbconvert_exporter": "python",
   "pygments_lexer": "ipython3",
   "version": "3.6.4"
  }
 },
 "nbformat": 4,
 "nbformat_minor": 2
}
