{
 "cells": [
  {
   "cell_type": "markdown",
   "metadata": {},
   "source": [
    "- 验证码：防止机器人或者爬虫\n",
    "    - 意义：验证码的作用在于区分人和机器，防止被暴力破解，提高破解密码的难度\n",
    "- 分类\n",
    "    - 简单图片\n",
    "    - 极验: http://www.geetest.com\n",
    "    - 选择相应实物的图片\n",
    "    - 电话\n",
    "    - google验证\n",
    "\n",
    "- 验证码破解\n",
    "    - 通用方法\n",
    "        - 下载网页和验证码，手动输入验证码\n",
    "    - 简单图片\n",
    "        - 使用图像识别软件或者文字识别软件    \n",
    "        - 可以使用第三方图像验证码破解网站\n",
    "            - https://www.chaojiying.com/\n",
    "    - 极验: \n",
    "        - 破解比较麻烦\n",
    "        - 可以模拟鼠标等移动\n",
    "        - 一直在学习进化（基于深度学习）\n",
    "    - 选择相应实物的图片\n",
    "        - 放弃\n",
    "    - 电话（是加了杂音的一段语音）\n",
    "        - 语音识别\n",
    "    - google验证 \n",
    "    \n",
    "- Tesseract\n",
    "    - 机器视觉领域的基础软件\n",
    "    - OCR：OpticalChracterRecognization，光学文字识别\n",
    "    - Tesseract：一个OCR库\n",
    "    - 安装：。。。\n",
    "    - python也需要安装包pytesseract\n",
    "    - 【案例01】"
   ]
  },
  {
   "cell_type": "code",
   "execution_count": null,
   "metadata": {},
   "outputs": [],
   "source": [
    "# 案例01\n",
    "\n",
    "import pytesseract as pt\n",
    "from PIL import Image\n",
    "\n",
    "image = Image.open('xxx.png')\n",
    "\n",
    "# 图片转文字\n",
    "text = pt.image_to_string(image)"
   ]
  },
  {
   "cell_type": "code",
   "execution_count": null,
   "metadata": {},
   "outputs": [],
   "source": []
  }
 ],
 "metadata": {
  "kernelspec": {
   "display_name": "Python 3",
   "language": "python",
   "name": "python3"
  },
  "language_info": {
   "codemirror_mode": {
    "name": "ipython",
    "version": 3
   },
   "file_extension": ".py",
   "mimetype": "text/x-python",
   "name": "python",
   "nbconvert_exporter": "python",
   "pygments_lexer": "ipython3",
   "version": "3.6.4"
  }
 },
 "nbformat": 4,
 "nbformat_minor": 2
}
