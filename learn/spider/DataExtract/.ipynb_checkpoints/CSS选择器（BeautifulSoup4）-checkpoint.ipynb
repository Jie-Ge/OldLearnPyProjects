{
 "cells": [
  {
   "cell_type": "markdown",
   "metadata": {},
   "source": [
    "## CSS选择器  BeautifulSoup4\n",
    "- 中文文档：https://beautifulsoup.readthedocs.io/zh_CN/v4.4.0/\n",
    "- 几个常用提取信息工具的比较：\n",
    "    - 正则：很快，不好用，不需安装\n",
    "    - beautifulsoup：慢，使用简单，安装简单\n",
    "    - lxml：比较快，使用简单，安装一般\n",
    "    - 【案例01】\n",
    "- 4大对象：参考文档\n",
    "    - Tag\n",
    "        - Tag对象与XML或HTML原生文档中的tag相同\n",
    "    - NavigableString\n",
    "        - 对应内容值\n",
    "    - BeautifulSoup \n",
    "        - 表示的是一个文档的全部内容，大部分时候,可以把它当作 Tag 对象\n",
    "    - Comment\n",
    "        - 是一个特殊类型的 NavigableString 对象\n",
    "        - 对其输出，则内容不包括注释符号\n",
    "    - 一般使用1、2两项\n",
    "- 遍历文档对象\n",
    "    - contents：将tag的子节点以列表的方式输出\n",
    "    - children：子节点以迭代器形式返回\n",
    "    - descendants：可以对所有tag的子孙节点进行递归循环\n",
    "    - string：如果一个tag仅有一个子节点,那么这个tag可以使用 .string 方法\n",
    "- 搜索文档对象\n",
    "    - find_all(name, attrs, recursive, text, **kwargs)\n",
    "         - name：按照哪个字符串搜索，可以传入的内容为：\n",
    "             - 字符串\n",
    "             - 正则表达式\n",
    "             - 列表\n",
    "         - keyword参数，可以用来表示属性\n",
    "         - text：对应tag的文本值\n",
    "         \n",
    "    - CSS选择器\n",
    "        - 使用 .select()方法中传入字符串参数, 即可使用CSS选择器的语法找到tag\n",
    "        - 通过标签名称：soup.select(\"title\")\n",
    "        - 通过类名：soup.select(\".content\")\n",
    "        - 通过id查找：soup.select(\"#anme_id\")\n",
    "        - 组合查找：soup.select(\"div #input_content\")\n",
    "        - 通过属性查找：soup.select(\"img[class='photo']\")\n",
    "        - 获取tag内容：tag.get_text"
   ]
  },
  {
   "cell_type": "code",
   "execution_count": 2,
   "metadata": {},
   "outputs": [],
   "source": [
    "# 案例01\n",
    "from urllib import request\n",
    "from bs4 import BeautifulSoup\n",
    "\n",
    "url = \"http://www.baidu.com\"\n",
    "\n",
    "rsp = request.urlopen(url)\n",
    "content = rsp.read()\n",
    "\n",
    "# 'lxmml': 解析器\n",
    "soup = BeautifulSoup(content, 'lxml')\n",
    "\n",
    "# bs自动转码\n",
    "content = soup.prettify()\n",
    "# print(content)"
   ]
  },
  {
   "cell_type": "code",
   "execution_count": null,
   "metadata": {},
   "outputs": [],
   "source": []
  },
  {
   "cell_type": "code",
   "execution_count": null,
   "metadata": {},
   "outputs": [],
   "source": []
  }
 ],
 "metadata": {
  "kernelspec": {
   "display_name": "Python 3",
   "language": "python",
   "name": "python3"
  },
  "language_info": {
   "codemirror_mode": {
    "name": "ipython",
    "version": 3
   },
   "file_extension": ".py",
   "mimetype": "text/x-python",
   "name": "python",
   "nbconvert_exporter": "python",
   "pygments_lexer": "ipython3",
   "version": "3.6.4"
  }
 },
 "nbformat": 4,
 "nbformat_minor": 2
}
