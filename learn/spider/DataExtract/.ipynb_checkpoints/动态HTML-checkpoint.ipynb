{
 "cells": [
  {
   "cell_type": "markdown",
   "metadata": {},
   "source": [
    "- python采集动态数据\n",
    "    - 从JavaScript代码入手采集\n",
    "    - python第三方库运行JavaScript，直接采集你在浏览器看到的页面\n",
    "- selenium + phantomJS\n",
    "    - selenium：web自动化测试工具\n",
    "        - 自动加载页面\n",
    "        - 获取数据\n",
    "        - 截屏\n",
    "        - 官网：https://selenium-python.readthedocs.io/\n",
    "        - selenium库有一个WebDriver的API，WebDriver可以跟页面上的元素进行各种交互，用它可以来进行爬取\n",
    "        - 【案例01】\n",
    "        \n",
    "        - selenium操作主要分两大类\n",
    "            - 得到UI元素（定位元素）\n",
    "                - https://selenium-python.readthedocs.io/locating-elements.html\n",
    "            - 基于UI元素操作的模拟\n",
    "                - 单击\n",
    "                - 右键\n",
    "                - 拖拽\n",
    "                - 输入\n",
    "                - 可以通过导入ActionChains类来做到\n",
    "            - 【案例02】\n",
    "    - phantomJS\n",
    "        - 基于webkit的无界面的浏览器\n",
    "        - 官网：https://phantomjs.org/download.html\n",
    "- chrome + chromedriver\n",
    "    - 下载加安装\n",
    "    - 【案例02】"
   ]
  },
  {
   "cell_type": "code",
   "execution_count": 1,
   "metadata": {},
   "outputs": [
    {
     "ename": "ModuleNotFoundError",
     "evalue": "No module named 'selenium'",
     "output_type": "error",
     "traceback": [
      "\u001b[1;31m---------------------------------------------------------------------------\u001b[0m",
      "\u001b[1;31mModuleNotFoundError\u001b[0m                       Traceback (most recent call last)",
      "\u001b[1;32m<ipython-input-1-2efd579c032c>\u001b[0m in \u001b[0;36m<module>\u001b[1;34m()\u001b[0m\n\u001b[0;32m      1\u001b[0m \u001b[1;31m# 案例01\u001b[0m\u001b[1;33m\u001b[0m\u001b[1;33m\u001b[0m\u001b[0m\n\u001b[1;32m----> 2\u001b[1;33m \u001b[1;32mfrom\u001b[0m \u001b[0mselenium\u001b[0m \u001b[1;32mimport\u001b[0m \u001b[0mwebdriver\u001b[0m\u001b[1;33m\u001b[0m\u001b[0m\n\u001b[0m\u001b[0;32m      3\u001b[0m \u001b[1;33m\u001b[0m\u001b[0m\n\u001b[0;32m      4\u001b[0m \u001b[1;31m# 通过keys模拟键盘\u001b[0m\u001b[1;33m\u001b[0m\u001b[1;33m\u001b[0m\u001b[0m\n\u001b[0;32m      5\u001b[0m \u001b[1;32mfrom\u001b[0m \u001b[0mselenium\u001b[0m\u001b[1;33m.\u001b[0m\u001b[0mwebdriver\u001b[0m\u001b[1;33m.\u001b[0m\u001b[0mcommon\u001b[0m\u001b[1;33m.\u001b[0m\u001b[0mkeys\u001b[0m \u001b[1;32mimport\u001b[0m \u001b[0mKeys\u001b[0m\u001b[1;33m\u001b[0m\u001b[0m\n",
      "\u001b[1;31mModuleNotFoundError\u001b[0m: No module named 'selenium'"
     ]
    }
   ],
   "source": [
    "# 案例01\n",
    "from selenium import webdriver\n",
    "\n",
    "# 通过keys模拟键盘\n",
    "from selenium.webdriver.common.keys import Keys\n",
    "\n",
    "\n",
    "# 操作哪个浏览器就对哪个浏览器建一个实例\n",
    "# 自动按照环境变量查找相应的浏览器（如果浏览器没有在相应环境变量中，则需要指定浏览器位置）\n",
    "driver = webdriver.PhantomJS()\n",
    "\n",
    "driver.get(\"http://www.baidu.com\")\n",
    "\n",
    "# 通过函数查找title标签\n",
    "print(driver.title)"
   ]
  },
  {
   "cell_type": "code",
   "execution_count": null,
   "metadata": {},
   "outputs": [],
   "source": [
    "# 案例02: 模拟浏览器，自动搜索相应内容\n",
    "\n",
    "from selenium import webdriver\n",
    "import time\n",
    "# 通过keys模拟键盘\n",
    "from selenium.webdriver.common.keys import Keys\n",
    "\n",
    "# 可能需要手动添加路径\n",
    "driver = webdriver.Chrome()\n",
    "\n",
    "url = \"http://www.baidu.com\"\n",
    "\n",
    "driver.get(url)\n",
    "\n",
    "text = driver.find_element_by_id('wrapper').text\n",
    "\n",
    "print(text)\n",
    "\n",
    "# 得到页面的快照\n",
    "driver.save_screenshot('index.png')\n",
    "\n",
    "# id='kw'的是百度的输入框，我们得到输入框的UI元素后直接输入“大熊猫”\n",
    "driver.find_element_by_id('kw').send_keys(u\"大熊猫\")\n",
    "\n",
    "# id='su'是百度搜索的按钮，click模拟点击\n",
    "driver.find_element_by_id('su').click()\n",
    "\n",
    "time.sleep(5)\n",
    "driver.save_screenshot(\"panda.png\")\n",
    "\n",
    "# 获取当前页面的cookie\n",
    "print(driver.get_cookie())\n",
    "\n",
    "# 模拟输入两个按键 Ctrl + a （全选）\n",
    "driver.find_element_by_id('kw').send_keys(Keys.CONTROL, 'a')\n",
    "\n",
    "# ctrl + x (剪切)\n",
    "driver.find_element_by_id('kw').send_keys(Keys.CONTROL, 'x')\n",
    "\n",
    "# 输入‘航空母舰’\n",
    "driver.find_element_by_id('kw').send_keys(u'航空母舰')\n",
    "# 得到快照\n",
    "driver.save_screenshot('hangmu.png')\n",
    "\n",
    "# 清空输入框\n",
    "driver.find_element_by_id('kw').clear()\n",
    "driver.save_screenshot('clear.png')\n",
    "\n",
    "# 关闭浏览器\n",
    "driver.quit()"
   ]
  }
 ],
 "metadata": {
  "kernelspec": {
   "display_name": "Python 3",
   "language": "python",
   "name": "python3"
  },
  "language_info": {
   "codemirror_mode": {
    "name": "ipython",
    "version": 3
   },
   "file_extension": ".py",
   "mimetype": "text/x-python",
   "name": "python",
   "nbconvert_exporter": "python",
   "pygments_lexer": "ipython3",
   "version": "3.6.4"
  }
 },
 "nbformat": 4,
 "nbformat_minor": 2
}
