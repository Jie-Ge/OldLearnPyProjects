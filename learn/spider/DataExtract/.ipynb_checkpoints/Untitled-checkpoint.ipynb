{
 "cells": [
  {
   "cell_type": "markdown",
   "metadata": {},
   "source": [
    "## 页面解析和数据提取\n",
    "- 结构化数据：先有结构，再谈数据\n",
    "    - JSON文件\n",
    "        - JSON Path\n",
    "        - 转换成Python类型进行操作（json类）\n",
    "    - XML文件\n",
    "        - 转换成python类型（xmltodict）\n",
    "        - XPath\n",
    "        - CSS选择器\n",
    "        - 正则\n",
    "- 非结构化数据：先有数据，再谈结构\n",
    "    - 文本\n",
    "    - 电话号码\n",
    "    - 地址邮箱\n",
    "        - 通常处理此类数据，使用正则表达式\n",
    "    - html文件\n",
    "        - 正则\n",
    "        - XPath\n",
    "        - CSS选择器\n",
    "\n",
    "## 正则表达式\n",
    "- 同 /PycharmProjects/learn/正则\n"
   ]
  },
  {
   "cell_type": "code",
   "execution_count": null,
   "metadata": {},
   "outputs": [],
   "source": []
  },
  {
   "cell_type": "code",
   "execution_count": null,
   "metadata": {},
   "outputs": [],
   "source": []
  }
 ],
 "metadata": {
  "kernelspec": {
   "display_name": "Python 3",
   "language": "python",
   "name": "python3"
  },
  "language_info": {
   "codemirror_mode": {
    "name": "ipython",
    "version": 3
   },
   "file_extension": ".py",
   "mimetype": "text/x-python",
   "name": "python",
   "nbconvert_exporter": "python",
   "pygments_lexer": "ipython3",
   "version": "3.6.4"
  }
 },
 "nbformat": 4,
 "nbformat_minor": 2
}
