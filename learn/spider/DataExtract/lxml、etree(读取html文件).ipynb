{
 "cells": [
  {
   "cell_type": "markdown",
   "metadata": {},
   "source": [
    "- lxml库\n",
    "    - python的HTML/XML的解析器\n",
    "    - 官方文档：https://lxml.de/index.html\n",
    "    - 【案例01】\n",
    "- 功能\n",
    "    - 解析HTML\n",
    "    - 文件读取\n",
    "    - etree和XPath的配合使用 【案例02】"
   ]
  },
  {
   "cell_type": "code",
   "execution_count": 1,
   "metadata": {},
   "outputs": [
    {
     "name": "stdout",
     "output_type": "stream",
     "text": [
      "b'<html><body><div>\\n    <ul>\\n        <li class=\"item-0\"><a href=\"0.html\">first item</a></li>\\n        <li class=\"item-1\"><a href=\"1.html\">first item</a></li>\\n        <li class=\"item-2\"><a href=\"2.html\">first item</a></li>\\n        <li class=\"item-3\"><a href=\"3.html\">first item</a>\\n    </li></ul>\\n</div>\\n</body></html>'\n"
     ]
    }
   ],
   "source": [
    "# 案例01\n",
    "from lxml import etree\n",
    "text = '''\n",
    "<div>\n",
    "    <ul>\n",
    "        <li class=\"item-0\"><a href=\"0.html\">first item</a></li>\n",
    "        <li class=\"item-1\"><a href=\"1.html\">first item</a></li>\n",
    "        <li class=\"item-2\"><a href=\"2.html\">first item</a></li>\n",
    "        <li class=\"item-3\"><a href=\"3.html\">first item</a></li>\n",
    "    </ul>\n",
    "</div>\n",
    "'''\n",
    "# 利用etree.HTML把字符串解析成HTML文档\n",
    "html = etree.HTML(text)\n",
    "s = etree.tostring(html)\n",
    "print(s)"
   ]
  },
  {
   "cell_type": "code",
   "execution_count": null,
   "metadata": {},
   "outputs": [],
   "source": [
    "# 案例02\n",
    "from lxml import etree\n",
    "\n",
    "# 只能读取xml格式内容，html会报错\n",
    "html = etree.parse(\"xxx.html\")\n",
    "\n",
    "# rst = etree.tostring(html, pretty_print=True)\n",
    "# print(rst)\n",
    "\n",
    "rst = html.xpath('//book')\n",
    "\n",
    "rst.tag\n",
    "rst.text"
   ]
  }
 ],
 "metadata": {
  "kernelspec": {
   "display_name": "Python 3",
   "language": "python",
   "name": "python3"
  },
  "language_info": {
   "codemirror_mode": {
    "name": "ipython",
    "version": 3
   },
   "file_extension": ".py",
   "mimetype": "text/x-python",
   "name": "python",
   "nbconvert_exporter": "python",
   "pygments_lexer": "ipython3",
   "version": "3.6.4"
  }
 },
 "nbformat": 4,
 "nbformat_minor": 2
}
