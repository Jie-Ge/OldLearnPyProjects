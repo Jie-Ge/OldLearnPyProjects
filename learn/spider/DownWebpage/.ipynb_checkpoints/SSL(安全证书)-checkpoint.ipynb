{
 "cells": [
  {
   "cell_type": "markdown",
   "metadata": {},
   "source": [
    "- SSL\n",
    "    - SSL证书（SecureSocketLayer）就是指遵守SSL安全套阶层协议的服务器数字证书\n",
    "    - 美国网警公司开发\n",
    "    - CA（CertificateAuthority）是数字证书认证中心，是发放、管理、废除数字证书的收信人的第三方机构\n",
    "    - 遇到不信任的SSL证书（即网址前面出现‘不安全’），可以单独处理，【案例01】"
   ]
  },
  {
   "cell_type": "code",
   "execution_count": 2,
   "metadata": {},
   "outputs": [],
   "source": [
    "# 案例01\n",
    "\n",
    "from urllib import request\n",
    "import ssl\n",
    "\n",
    "# 一个不信任的网址（下面这个网址是信任的）\n",
    "url = \"https://www.12306.cn/mormhweb/\" \n",
    "\n",
    "# 利用非认证上下文环境替换认证的上下文环境\n",
    "ssl._create_default_https_context = ssl._create_unverified_context\n",
    "\n",
    "rsp = request.urlopen(url)\n",
    "\n",
    "html = rsp.read().decode()\n",
    "\n",
    "print(html)"
   ]
  },
  {
   "cell_type": "code",
   "execution_count": null,
   "metadata": {},
   "outputs": [],
   "source": []
  }
 ],
 "metadata": {
  "kernelspec": {
   "display_name": "Python 3",
   "language": "python",
   "name": "python3"
  },
  "language_info": {
   "codemirror_mode": {
    "name": "ipython",
    "version": 3
   },
   "file_extension": ".py",
   "mimetype": "text/x-python",
   "name": "python",
   "nbconvert_exporter": "python",
   "pygments_lexer": "ipython3",
   "version": "3.6.4"
  }
 },
 "nbformat": 4,
 "nbformat_minor": 2
}
