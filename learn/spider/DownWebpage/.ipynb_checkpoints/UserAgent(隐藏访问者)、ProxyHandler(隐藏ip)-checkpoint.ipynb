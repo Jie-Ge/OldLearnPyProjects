{
 "cells": [
  {
   "cell_type": "markdown",
   "metadata": {},
   "source": [
    "- UserAgent\n",
    "    - 用户代理，简称UA，属于heads的一部分，服务器通过UA来判断访问者的身份\n",
    "    - 常见的UA值，使用的时候可以直接复制粘贴，也可以用浏览器访问的时候抓包\n",
    "    \n",
    "    - 设置UA可以通过两种方式\n",
    "        - heads\n",
    "        - add_header\n",
    "        - 【案例01】\n",
    "- ProxyHandler（代理服务器）\n",
    "    - 使用代理ip（隐藏ip），是爬虫的常用手段\n",
    "    - 获取代理服务器的地址（以下是公开免费的，肯定没那么好用）：\n",
    "         - www.xicidaili.com\n",
    "         - www.goubanjia.com\n",
    "    - 代理用来隐藏真实访问，代理也不允许频繁的访问某个网站，所以，代理一定要很多很多\n",
    "    - 基本使用步骤：\n",
    "        1. 设置代理地址\n",
    "        2. 创建ProxyHandler\n",
    "        3. 创建Opener\n",
    "        4. 安装Opener\n",
    "        - 【案例02】"
   ]
  },
  {
   "cell_type": "code",
   "execution_count": 2,
   "metadata": {},
   "outputs": [
    {
     "name": "stdout",
     "output_type": "stream",
     "text": [
      "<urlopen error [Errno 11001] getaddrinfo failed>\n"
     ]
    }
   ],
   "source": [
    "# 案例01\n",
    "'''\n",
    "访问一个网址\n",
    "更改自己的UserAgent进行伪装\n",
    "'''\n",
    "\n",
    "from urllib import request, error\n",
    "\n",
    "url = 'http://www.baidu.com'\n",
    "\n",
    "try:\n",
    "    # 使用heads方法伪装UA\n",
    "    headers = {}\n",
    "    headers['User-Agent'] = 'Mozilla/5.0 (linux NT 10.0; Win64; x64) AppleWebKit/537.36 (KHTML, like Gecko) Chrome/79.0.3945.117 Safari/537.36'\n",
    "    req = request.Request(url, headers=headers)\n",
    "    \n",
    "    '''\n",
    "    # 使用add_header方法\n",
    "    req = request.request(url)\n",
    "    req.add_header(\"User-Agent\", \"Mozilla/5.0 (linux NT 10.0; Win64; x64) AppleWebKit/537.36 (KHTML, like Gecko) Chrome/79.0.3945.117 Safari/537.36\")\n",
    "    '''\n",
    "    \n",
    "        \n",
    "    # 正常访问\n",
    "    rsp = request.urlopen(req)\n",
    "    html = rsp.read().decode()\n",
    "    print(html)\n",
    "    \n",
    "except Exception as e:\n",
    "    print(e)"
   ]
  },
  {
   "cell_type": "code",
   "execution_count": null,
   "metadata": {},
   "outputs": [],
   "source": [
    "# 案例02：ProxyHandler（代理服务器）\n",
    "\n",
    "from urllib import request, error\n",
    "\n",
    "url = 'http://www.baidu.com'\n",
    "\n",
    "# 1. 设置代理地址\n",
    "proxy = {'http': '120.194.18.90:81'}\n",
    "\n",
    "# 2. 创建ProxyHandler\n",
    "proxy_handler = request.ProxyHandler(proxy)\n",
    "\n",
    "# 3. 创建Opener\n",
    "opener = request.build_opener(proxy_handler)\n",
    "\n",
    "# 4. 安装Opener\n",
    "request.install_opener(opener)\n",
    "\n",
    "# 现在如果访问url(一般是放在try里) ，则使用代理服务器\n",
    "try:\n",
    "    rsp = request.urlopen(url)\n",
    "    html = rsp.read().decode()\n",
    "    print(html)\n",
    "    \n",
    "except error.URLError as e:\n",
    "    print(e)\n",
    "except Exception as e:\n",
    "    print(e)"
   ]
  }
 ],
 "metadata": {
  "kernelspec": {
   "display_name": "Python 3",
   "language": "python",
   "name": "python3"
  },
  "language_info": {
   "codemirror_mode": {
    "name": "ipython",
    "version": 3
   },
   "file_extension": ".py",
   "mimetype": "text/x-python",
   "name": "python",
   "nbconvert_exporter": "python",
   "pygments_lexer": "ipython3",
   "version": "3.6.4"
  }
 },
 "nbformat": 4,
 "nbformat_minor": 2
}
