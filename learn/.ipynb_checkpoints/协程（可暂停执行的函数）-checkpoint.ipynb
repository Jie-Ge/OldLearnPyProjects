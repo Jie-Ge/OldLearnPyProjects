{
 "cells": [
  {
   "cell_type": "markdown",
   "metadata": {},
   "source": [
    "# 协程\n",
    "- http://segmentfault.com/a/1190000009781688\n",
    "- 实现协程比较好的包有asyncio, tornado, gevent\n",
    "- 定义：从技术角度讲，协程就是一个你可以暂停执行的函数，或者干脆把协程理解成生成器\n",
    "- 实现：\n",
    "    - yield返回\n",
    "    - send调用\n",
    "- 协程的4个状态\n",
    "    - inspect.getgeneratorstate(...) 函数确定，该函数会返回下述字符串中的一个：\n",
    "        - GEN_CTREATED: 等待开始执行\n",
    "        - GEN_RUNNING: 解释器正在执行\n",
    "        - GEN_SUSPENED: 在yield表达式处暂停\n",
    "        - GEN_CLOSED: 执行结束\n",
    "    - next预激（prime）\n",
    "- 协程终止\n",
    "    - 协程中未处理的异常会向上冒泡，传给next函数或send方法的调用方（即触发协程的对象）\n",
    "    - 终止协程的一种方式：发送某个哨符值，让协程退出。内置的None和Ellipse等常量经常用作哨符值\n",
    "    \n",
    "- yield from\n",
    "    - 调用协程为了得到返回值，协程必须正常终止\n",
    "    - 生成器正常终止会发出StopIteration异常，异常对象的value属性保存返回值\n",
    "    - yield from 从内部捕获StopIteration异常\n",
    "    - yield from后面加上可迭代对象，他可以把可迭代对象里的每个元素一个一个的yield出来\n",
    "    - 案例03\n",
    "    - 概念：\n",
    "        1. 调用方：调用委派生成器的客户端（调用方）代码\n",
    "        2. 委托生成器：包含yield from表达式的生成器函数\n",
    "        3. 子生成器：yield from后面加的生成器函数\n",
    "    - 委派生成器\n",
    "        - 包含yield from表达式的生成器函数\n",
    "        - 委派生成器在yield from表达式处暂停，调用方可以直接把数据发给子生成器\n",
    "        - 子生成器再把产出的值发给调用方\n",
    "        - 子生成器在最后，解释器会抛出StopIteration，并把返回值附加到异常对象上\n",
    "        - 作用：在调用方与子生成器之间建立一个双向通道\n",
    "        - 案例04"
   ]
  },
  {
   "cell_type": "code",
   "execution_count": 3,
   "metadata": {},
   "outputs": [
    {
     "name": "stdout",
     "output_type": "stream",
     "text": [
      "1111\n",
      "-> start\n",
      "2222\n",
      "-> received zhexiao\n"
     ]
    },
    {
     "ename": "StopIteration",
     "evalue": "",
     "output_type": "error",
     "traceback": [
      "\u001b[1;31m---------------------------------------------------------------------------\u001b[0m",
      "\u001b[1;31mStopIteration\u001b[0m                             Traceback (most recent call last)",
      "\u001b[1;32m<ipython-input-3-4109a857a5b6>\u001b[0m in \u001b[0;36m<module>\u001b[1;34m()\u001b[0m\n\u001b[0;32m     14\u001b[0m \u001b[1;33m\u001b[0m\u001b[0m\n\u001b[0;32m     15\u001b[0m \u001b[0mprint\u001b[0m\u001b[1;33m(\u001b[0m\u001b[1;36m2222\u001b[0m\u001b[1;33m)\u001b[0m\u001b[1;33m\u001b[0m\u001b[0m\n\u001b[1;32m---> 16\u001b[1;33m \u001b[0msc\u001b[0m\u001b[1;33m.\u001b[0m\u001b[0msend\u001b[0m\u001b[1;33m(\u001b[0m\u001b[1;34m'zhexiao'\u001b[0m\u001b[1;33m)\u001b[0m \u001b[1;31m# x 接收这个数据\u001b[0m\u001b[1;33m\u001b[0m\u001b[0m\n\u001b[0m\u001b[0;32m     17\u001b[0m \u001b[1;33m\u001b[0m\u001b[0m\n\u001b[0;32m     18\u001b[0m \u001b[1;31m# 执行到最后了，没有了，就会爆StopIteration异常，这才是正确的\u001b[0m\u001b[1;33m\u001b[0m\u001b[1;33m\u001b[0m\u001b[0m\n",
      "\u001b[1;31mStopIteration\u001b[0m: "
     ]
    }
   ],
   "source": [
    "# 协程代码案例01\n",
    "def simple_coroutine():\n",
    "    print('-> start')\n",
    "    x = yield\n",
    "    print('-> received', x)\n",
    "\n",
    "# 创建生成器对象\n",
    "sc = simple_coroutine()\n",
    "print(1111)\n",
    "\n",
    "# 可以使用sc.send(None), 效果一样\n",
    "# 调用\n",
    "next(sc) # 预激\n",
    "\n",
    "print(2222)\n",
    "sc.send('zhexiao') # x 接收这个数据\n",
    "\n",
    "# 执行到最后了，没有了，就会爆StopIteration异常，这才是正确的 "
   ]
  },
  {
   "cell_type": "code",
   "execution_count": 7,
   "metadata": {},
   "outputs": [
    {
     "name": "stdout",
     "output_type": "stream",
     "text": [
      "-> start\n",
      "5\n",
      "-> received 5 6\n",
      "11\n",
      "-> received 5 6 7\n"
     ]
    },
    {
     "ename": "StopIteration",
     "evalue": "",
     "output_type": "error",
     "traceback": [
      "\u001b[1;31m---------------------------------------------------------------------------\u001b[0m",
      "\u001b[1;31mStopIteration\u001b[0m                             Traceback (most recent call last)",
      "\u001b[1;32m<ipython-input-7-5144a4eb9483>\u001b[0m in \u001b[0;36m<module>\u001b[1;34m()\u001b[0m\n\u001b[0;32m     19\u001b[0m \u001b[0mprint\u001b[0m\u001b[1;33m(\u001b[0m\u001b[0mbb\u001b[0m\u001b[1;33m)\u001b[0m\u001b[1;33m\u001b[0m\u001b[0m\n\u001b[0;32m     20\u001b[0m \u001b[1;33m\u001b[0m\u001b[0m\n\u001b[1;32m---> 21\u001b[1;33m \u001b[0mcc\u001b[0m \u001b[1;33m=\u001b[0m \u001b[0msc\u001b[0m\u001b[1;33m.\u001b[0m\u001b[0msend\u001b[0m\u001b[1;33m(\u001b[0m\u001b[1;36m7\u001b[0m\u001b[1;33m)\u001b[0m \u001b[1;31m# 函数里的c接收，c=7\u001b[0m\u001b[1;33m\u001b[0m\u001b[0m\n\u001b[0m\u001b[0;32m     22\u001b[0m \u001b[0mprint\u001b[0m\u001b[1;33m(\u001b[0m\u001b[0mcc\u001b[0m\u001b[1;33m)\u001b[0m\u001b[1;33m\u001b[0m\u001b[0m\n",
      "\u001b[1;31mStopIteration\u001b[0m: "
     ]
    }
   ],
   "source": [
    "# 案例02\n",
    "def simple_coroutine(a):\n",
    "    print('-> start')\n",
    "    \n",
    "    b = yield a  # 返回 a=5\n",
    "    print('-> received', a, b)\n",
    "    \n",
    "    c = yield a + b\n",
    "    print('-> received', a, b, c)\n",
    "\n",
    "# 创建生成器对象\n",
    "sc = simple_coroutine(5)\n",
    "\n",
    "# 调用（预激）\n",
    "aa = next(sc)  # aa接收返回值\n",
    "print(aa)\n",
    "\n",
    "bb = sc.send(6) # 函数里的b接收，b=6; bb接收返回的值\n",
    "print(bb)\n",
    "\n",
    "cc = sc.send(7) # 函数里的c接收，c=7\n",
    "# print(cc)"
   ]
  },
  {
   "cell_type": "code",
   "execution_count": 11,
   "metadata": {},
   "outputs": [
    {
     "name": "stdout",
     "output_type": "stream",
     "text": [
      "['A', 'B']\n",
      "<generator object new_gen at 0x00000251EAA76E08>\n"
     ]
    }
   ],
   "source": [
    "# 案例03：yield form\n",
    "\n",
    "def gen():\n",
    "    for i in 'AB':\n",
    "        yield i\n",
    "print(list(gen()))\n",
    "\n",
    "def new_gen():\n",
    "    yield from 'AB'\n",
    "    \n",
    "print(list(new_gen()))"
   ]
  },
  {
   "cell_type": "code",
   "execution_count": 14,
   "metadata": {},
   "outputs": [
    {
     "name": "stdout",
     "output_type": "stream",
     "text": [
      "10.0\n",
      "15.0\n",
      "20.0\n",
      "计算完毕！！\n",
      "总共传入 3 个数值， 总和：60，平均数：20.0\n"
     ]
    }
   ],
   "source": [
    "# 案例04：委派生成器\n",
    "\n",
    "# 子生成器：yield from后面加的生成器函数\n",
    "def average_gen():\n",
    "    total = 0\n",
    "    count = 0\n",
    "    average = 0\n",
    "    while True:\n",
    "        new_num = yield average # 返回average, 然后又继续调用，接着上次的地方执行，所以一直在循环\n",
    "        if new_num is None:\n",
    "            break\n",
    "        count += 1\n",
    "        total += new_num\n",
    "        average = total/count\n",
    "\n",
    "    # 每一次return，都意味着当前协程结束。\n",
    "    return total,count,average\n",
    "\n",
    "# 委托生成器：包含yield from表达式的函数\n",
    "def proxy_gen():\n",
    "    while True:\n",
    "        # 只有子生成器要结束（return）了，yield from左边的变量才会被赋值，后面的代码才会执行。\n",
    "        total, count, average = yield from average_gen()\n",
    "        print(\"计算完毕！！\\n总共传入 {} 个数值， 总和：{}，平均数：{}\".format(count, total, average))\n",
    "\n",
    "# 调用方\n",
    "def main():\n",
    "    calc_average = proxy_gen()\n",
    "    next(calc_average)            # 预激协程\n",
    "    print(calc_average.send(10))  # 打印：10.0\n",
    "    print(calc_average.send(20))  # 打印：15.0\n",
    "    print(calc_average.send(30))  # 打印：20.0\n",
    "    calc_average.send(None)      # 结束协程\n",
    "    # 如果此处再调用calc_average.send(10)，由于上一协程已经结束，将重开一协程\n",
    "\n",
    "if __name__ == '__main__':\n",
    "    main()"
   ]
  },
  {
   "cell_type": "markdown",
   "metadata": {},
   "source": [
    "# asyncio\n",
    "- https://www.liaoxuefeng.com/wiki/1016959663602400/1017970488768640\n",
    "- 本身是一个消息循环，内置对异步io的支持\n",
    "- 步骤：\n",
    "    - 创建消息循环\n",
    "    - 把协程导入\n",
    "    - 关闭"
   ]
  },
  {
   "cell_type": "code",
   "execution_count": null,
   "metadata": {},
   "outputs": [],
   "source": [
    "import asyncio\n",
    "\n",
    "# 使用了装饰器@asyncio.coroutine来将这个get_html()函数定义为协程\n",
    "@asyncio.coroutine\n",
    "def get_html(url, name):\n",
    "    print(\"%s get %s html start\" % (name, url))\n",
    "    yield from asyncio.sleep(2)\n",
    "    print(\"%s get %s html end\" % (name, url))\n",
    "\n",
    "\n",
    "if __name__ == '__main__':\n",
    "    # 启动消息（事件）循环\n",
    "    loop = asyncio.get_event_loop()\n",
    "    # 创建两个协程\n",
    "    tasks = [\n",
    "        get_html(\"http://www.baidu.com\", \"A\"),\n",
    "        get_html(\"http://www.souhu.com\", \"B\"),\n",
    "    ]\n",
    "    # 启动事件循环并将协程放进去执行\n",
    "    loop.run_until_complete(asyncio.wait(tasks))\n",
    "    # 关闭消息循环\n",
    "    loop.close()"
   ]
  }
 ],
 "metadata": {
  "kernelspec": {
   "display_name": "Python 3",
   "language": "python",
   "name": "python3"
  },
  "language_info": {
   "codemirror_mode": {
    "name": "ipython",
    "version": 3
   },
   "file_extension": ".py",
   "mimetype": "text/x-python",
   "name": "python",
   "nbconvert_exporter": "python",
   "pygments_lexer": "ipython3",
   "version": "3.6.4"
  }
 },
 "nbformat": 4,
 "nbformat_minor": 2
}
