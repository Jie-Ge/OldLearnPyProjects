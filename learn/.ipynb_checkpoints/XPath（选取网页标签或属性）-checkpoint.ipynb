{
 "cells": [
  {
   "cell_type": "markdown",
   "metadata": {},
   "source": [
    "- https://www.w3school.com.cn/xpath/xpath_intro.asp"
   ]
  },
  {
   "cell_type": "markdown",
   "metadata": {},
   "source": [
    "# XPath\n",
    "- 在XML文件中查找信息的一套规则/语言，根据XML的元素或者属性进行遍历（查找标签/属性）\n",
    "- XPath可以和lxml->etree配合使用\n",
    "- XPath开发工具\n",
    "    - 开源的XPath表达式工具：XMLQuire\n",
    "    - chrome插件：Xpath Helper\n",
    "    - Firefox插件：XPath CHecker"
   ]
  }
 ],
 "metadata": {
  "kernelspec": {
   "display_name": "Python 3",
   "language": "python",
   "name": "python3"
  },
  "language_info": {
   "codemirror_mode": {
    "name": "ipython",
    "version": 3
   },
   "file_extension": ".py",
   "mimetype": "text/x-python",
   "name": "python",
   "nbconvert_exporter": "python",
   "pygments_lexer": "ipython3",
   "version": "3.6.4"
  }
 },
 "nbformat": 4,
 "nbformat_minor": 2
}
